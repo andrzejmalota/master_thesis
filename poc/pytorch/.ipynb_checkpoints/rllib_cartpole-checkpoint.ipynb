{
 "cells": [
  {
   "cell_type": "code",
   "execution_count": 2,
   "id": "selected-respondent",
   "metadata": {},
   "outputs": [
    {
     "name": "stderr",
     "output_type": "stream",
     "text": [
      "/Users/amalota/anaconda3/envs/py37/lib/python3.7/site-packages/ray/autoscaler/_private/cli_logger.py:61: FutureWarning: Not all Ray CLI dependencies were found. In Ray 1.4+, the Ray CLI, autoscaler, and dashboard will only be usable via `pip install 'ray[default]'`. Please update your install command.\n",
      "  \"update your install command.\", FutureWarning)\n"
     ]
    }
   ],
   "source": [
    "from __future__ import print_function\n",
    "\n",
    "import numpy as np\n",
    "from matplotlib import pyplot as plt\n",
    "\n",
    "import gym\n",
    "import ray\n",
    "import ray.rllib.agents.dqn as dqn\n",
    "\n",
    "import pandas as pd\n",
    "import json\n",
    "import os\n",
    "import shutil\n",
    "import sys\n",
    "from IPython import display\n",
    "\n"
   ]
  },
  {
   "cell_type": "code",
   "execution_count": 3,
   "id": "d372f8e9-ae90-4f58-a0a9-33c1db850a0c",
   "metadata": {},
   "outputs": [],
   "source": [
    "checkpoint_root = \"tmp/dqn/cartpole\"\n",
    "\n",
    "# Where checkpoints are written:\n",
    "shutil.rmtree(checkpoint_root, ignore_errors=True, onerror=None)\n",
    "\n",
    "# Where some data will be written and used by Tensorboard below:\n",
    "ray_results = f'{os.getenv(\"HOME\")}/ray_results/'\n",
    "shutil.rmtree(ray_results, ignore_errors=True, onerror=None)"
   ]
  },
  {
   "cell_type": "code",
   "execution_count": 4,
   "id": "sharing-utilization",
   "metadata": {},
   "outputs": [
    {
     "name": "stderr",
     "output_type": "stream",
     "text": [
      "2021-05-14 12:47:29,151\tINFO services.py:1269 -- View the Ray dashboard at \u001b[1m\u001b[32mhttp://127.0.0.1:8265\u001b[39m\u001b[22m\n"
     ]
    }
   ],
   "source": [
    "# Start up Ray. This must be done before we instantiate any RL agents.\n",
    "info = ray.init(num_cpus=3, ignore_reinit_error=True)"
   ]
  },
  {
   "cell_type": "code",
   "execution_count": 5,
   "id": "ae788b32-608c-4178-b187-66277be79fed",
   "metadata": {},
   "outputs": [
    {
     "name": "stdout",
     "output_type": "stream",
     "text": [
      "Dashboard URL: http://127.0.0.1:8265\n"
     ]
    }
   ],
   "source": [
    "print(\"Dashboard URL: http://{}\".format(info[\"webui_url\"]))"
   ]
  },
  {
   "cell_type": "code",
   "execution_count": 14,
   "id": "7c7de796-1697-49fd-a72f-74e63fb5173d",
   "metadata": {},
   "outputs": [],
   "source": [
    "SELECT_ENV = \"CartPole-v0\"                      # Specifies the OpenAI Gym environment for Cart Pole\n",
    "env = gym.make(SELECT_ENV)\n",
    "N_ITER = 10                                     # Number of training runs.\n",
    "\n",
    "config = dqn.DEFAULT_CONFIG.copy()              # PPO's default configuration. See the next code cell.\n",
    "config['framework'] = 'torch'\n",
    "config[\"log_level\"] = \"WARN\"                    # Suppress too many messages, but try \"INFO\" to see what can be printed.\n",
    "\n",
    "# Other settings we might adjust:\n",
    "config[\"num_workers\"] = 5                       # Use > 1 for using more CPU cores, including over a cluster\n",
    "                                                # I.e., for each minibatch of data, do this many passes over it to train. \n",
    "config[\"num_cpus_per_worker\"] = 0  # This avoids running out of resources in the notebook environment when this cell is re-executed\n",
    "config['dueling'] = False\n",
    "config['hiddens'] = []"
   ]
  },
  {
   "cell_type": "code",
   "execution_count": 15,
   "id": "61033520-574b-45ca-b89b-569851df8224",
   "metadata": {},
   "outputs": [
    {
     "data": {
      "text/plain": [
       "{'num_workers': 5,\n",
       " 'num_envs_per_worker': 1,\n",
       " 'create_env_on_driver': False,\n",
       " 'rollout_fragment_length': 4,\n",
       " 'batch_mode': 'truncate_episodes',\n",
       " 'train_batch_size': 32,\n",
       " 'model': {'fcnet_hiddens': [256, 256],\n",
       "  'fcnet_activation': 'tanh',\n",
       "  'conv_filters': None,\n",
       "  'conv_activation': 'relu',\n",
       "  'post_fcnet_hiddens': [],\n",
       "  'post_fcnet_activation': 'relu',\n",
       "  'free_log_std': False,\n",
       "  'no_final_linear': False,\n",
       "  'vf_share_layers': True,\n",
       "  'use_lstm': False,\n",
       "  'max_seq_len': 20,\n",
       "  'lstm_cell_size': 256,\n",
       "  'lstm_use_prev_action': False,\n",
       "  'lstm_use_prev_reward': False,\n",
       "  '_time_major': False,\n",
       "  'use_attention': False,\n",
       "  'attention_num_transformer_units': 1,\n",
       "  'attention_dim': 64,\n",
       "  'attention_num_heads': 1,\n",
       "  'attention_head_dim': 32,\n",
       "  'attention_memory_inference': 50,\n",
       "  'attention_memory_training': 50,\n",
       "  'attention_position_wise_mlp_dim': 32,\n",
       "  'attention_init_gru_gate_bias': 2.0,\n",
       "  'attention_use_n_prev_actions': 0,\n",
       "  'attention_use_n_prev_rewards': 0,\n",
       "  'num_framestacks': 'auto',\n",
       "  'dim': 84,\n",
       "  'grayscale': False,\n",
       "  'zero_mean': True,\n",
       "  'custom_model': None,\n",
       "  'custom_model_config': {},\n",
       "  'custom_action_dist': None,\n",
       "  'custom_preprocessor': None,\n",
       "  'lstm_use_prev_action_reward': -1,\n",
       "  'framestack': True},\n",
       " 'optimizer': {},\n",
       " 'gamma': 0.99,\n",
       " 'horizon': None,\n",
       " 'soft_horizon': False,\n",
       " 'no_done_at_end': False,\n",
       " 'env': None,\n",
       " 'env_config': {},\n",
       " 'render_env': False,\n",
       " 'record_env': False,\n",
       " 'normalize_actions': False,\n",
       " 'clip_rewards': None,\n",
       " 'clip_actions': True,\n",
       " 'preprocessor_pref': 'deepmind',\n",
       " 'lr': 0.0005,\n",
       " 'log_level': 'WARN',\n",
       " 'callbacks': ray.rllib.agents.callbacks.DefaultCallbacks,\n",
       " 'ignore_worker_failures': False,\n",
       " 'log_sys_usage': True,\n",
       " 'fake_sampler': False,\n",
       " 'framework': 'torch',\n",
       " 'eager_tracing': False,\n",
       " 'explore': True,\n",
       " 'exploration_config': {'type': 'EpsilonGreedy',\n",
       "  'initial_epsilon': 1.0,\n",
       "  'final_epsilon': 0.02,\n",
       "  'epsilon_timesteps': 10000},\n",
       " 'evaluation_interval': None,\n",
       " 'evaluation_num_episodes': 10,\n",
       " 'in_evaluation': False,\n",
       " 'evaluation_config': {'explore': False},\n",
       " 'evaluation_num_workers': 0,\n",
       " 'custom_eval_function': None,\n",
       " 'sample_async': False,\n",
       " 'sample_collector': ray.rllib.evaluation.collectors.simple_list_collector.SimpleListCollector,\n",
       " 'observation_filter': 'NoFilter',\n",
       " 'synchronize_filters': True,\n",
       " 'tf_session_args': {'intra_op_parallelism_threads': 2,\n",
       "  'inter_op_parallelism_threads': 2,\n",
       "  'gpu_options': {'allow_growth': True},\n",
       "  'log_device_placement': False,\n",
       "  'device_count': {'CPU': 1},\n",
       "  'allow_soft_placement': True},\n",
       " 'local_tf_session_args': {'intra_op_parallelism_threads': 8,\n",
       "  'inter_op_parallelism_threads': 8},\n",
       " 'compress_observations': False,\n",
       " 'collect_metrics_timeout': 180,\n",
       " 'metrics_smoothing_episodes': 100,\n",
       " 'remote_worker_envs': False,\n",
       " 'remote_env_batch_wait_ms': 0,\n",
       " 'min_iter_time_s': 1,\n",
       " 'timesteps_per_iteration': 1000,\n",
       " 'seed': None,\n",
       " 'extra_python_environs_for_driver': {},\n",
       " 'extra_python_environs_for_worker': {},\n",
       " 'num_gpus': 0,\n",
       " '_fake_gpus': False,\n",
       " 'num_cpus_per_worker': 0,\n",
       " 'num_gpus_per_worker': 0,\n",
       " 'custom_resources_per_worker': {},\n",
       " 'num_cpus_for_driver': 1,\n",
       " 'placement_strategy': 'PACK',\n",
       " 'input': 'sampler',\n",
       " 'input_evaluation': ['is', 'wis'],\n",
       " 'postprocess_inputs': False,\n",
       " 'shuffle_buffer_size': 0,\n",
       " 'output': None,\n",
       " 'output_compress_columns': ['obs', 'new_obs'],\n",
       " 'output_max_file_size': 67108864,\n",
       " 'multiagent': {'policies': {},\n",
       "  'policy_mapping_fn': None,\n",
       "  'policies_to_train': None,\n",
       "  'observation_fn': None,\n",
       "  'replay_mode': 'independent',\n",
       "  'count_steps_by': 'env_steps'},\n",
       " 'logger_config': None,\n",
       " 'simple_optimizer': -1,\n",
       " 'monitor': -1,\n",
       " 'num_atoms': 1,\n",
       " 'v_min': -10.0,\n",
       " 'v_max': 10.0,\n",
       " 'noisy': False,\n",
       " 'sigma0': 0.5,\n",
       " 'dueling': False,\n",
       " 'hiddens': [],\n",
       " 'double_q': True,\n",
       " 'n_step': 1,\n",
       " 'target_network_update_freq': 500,\n",
       " 'buffer_size': 50000,\n",
       " 'replay_sequence_length': 1,\n",
       " 'prioritized_replay': True,\n",
       " 'prioritized_replay_alpha': 0.6,\n",
       " 'prioritized_replay_beta': 0.4,\n",
       " 'final_prioritized_replay_beta': 0.4,\n",
       " 'prioritized_replay_beta_annealing_timesteps': 20000,\n",
       " 'prioritized_replay_eps': 1e-06,\n",
       " 'before_learn_on_batch': None,\n",
       " 'training_intensity': None,\n",
       " 'lr_schedule': None,\n",
       " 'adam_epsilon': 1e-08,\n",
       " 'grad_clip': 40,\n",
       " 'learning_starts': 1000,\n",
       " 'worker_side_prioritization': False}"
      ]
     },
     "execution_count": 15,
     "metadata": {},
     "output_type": "execute_result"
    }
   ],
   "source": [
    "config"
   ]
  },
  {
   "cell_type": "code",
   "execution_count": 16,
   "id": "4ecea428-ed30-46f5-8309-94241b24fa2d",
   "metadata": {},
   "outputs": [
    {
     "name": "stderr",
     "output_type": "stream",
     "text": [
      "\u001b[2m\u001b[33m(raylet)\u001b[0m /Users/amalota/anaconda3/envs/py37/lib/python3.7/site-packages/ray/autoscaler/_private/cli_logger.py:61: FutureWarning: Not all Ray CLI dependencies were found. In Ray 1.4+, the Ray CLI, autoscaler, and dashboard will only be usable via `pip install 'ray[default]'`. Please update your install command.\n",
      "\u001b[2m\u001b[33m(raylet)\u001b[0m   \"update your install command.\", FutureWarning)\n",
      "\u001b[2m\u001b[33m(raylet)\u001b[0m /Users/amalota/anaconda3/envs/py37/lib/python3.7/site-packages/ray/autoscaler/_private/cli_logger.py:61: FutureWarning: Not all Ray CLI dependencies were found. In Ray 1.4+, the Ray CLI, autoscaler, and dashboard will only be usable via `pip install 'ray[default]'`. Please update your install command.\n",
      "\u001b[2m\u001b[33m(raylet)\u001b[0m   \"update your install command.\", FutureWarning)\n",
      "2021-05-14 12:52:05,488\tWARNING worker.py:1115 -- WARNING: 11 PYTHON workers have been started on a node of the id: dc2ee8ebe7ea50cadbcb88e584a4fdf743ff17a69d56e8ec2678cf76 and address: 192.168.0.138. This could be a result of using a large number of actors, or it could be a consequence of using nested tasks (see https://github.com/ray-project/ray/issues/3644) for some a discussion of workarounds.\n",
      "\u001b[2m\u001b[33m(raylet)\u001b[0m /Users/amalota/anaconda3/envs/py37/lib/python3.7/site-packages/ray/autoscaler/_private/cli_logger.py:61: FutureWarning: Not all Ray CLI dependencies were found. In Ray 1.4+, the Ray CLI, autoscaler, and dashboard will only be usable via `pip install 'ray[default]'`. Please update your install command.\n",
      "\u001b[2m\u001b[33m(raylet)\u001b[0m   \"update your install command.\", FutureWarning)\n",
      "2021-05-14 12:52:06,057\tWARNING worker.py:1115 -- WARNING: 13 PYTHON workers have been started on a node of the id: dc2ee8ebe7ea50cadbcb88e584a4fdf743ff17a69d56e8ec2678cf76 and address: 192.168.0.138. This could be a result of using a large number of actors, or it could be a consequence of using nested tasks (see https://github.com/ray-project/ray/issues/3644) for some a discussion of workarounds.\n",
      "\u001b[2m\u001b[33m(raylet)\u001b[0m /Users/amalota/anaconda3/envs/py37/lib/python3.7/site-packages/ray/autoscaler/_private/cli_logger.py:61: FutureWarning: Not all Ray CLI dependencies were found. In Ray 1.4+, the Ray CLI, autoscaler, and dashboard will only be usable via `pip install 'ray[default]'`. Please update your install command.\n",
      "\u001b[2m\u001b[33m(raylet)\u001b[0m   \"update your install command.\", FutureWarning)\n",
      "\u001b[2m\u001b[33m(raylet)\u001b[0m /Users/amalota/anaconda3/envs/py37/lib/python3.7/site-packages/ray/autoscaler/_private/cli_logger.py:61: FutureWarning: Not all Ray CLI dependencies were found. In Ray 1.4+, the Ray CLI, autoscaler, and dashboard will only be usable via `pip install 'ray[default]'`. Please update your install command.\n",
      "\u001b[2m\u001b[33m(raylet)\u001b[0m   \"update your install command.\", FutureWarning)\n",
      "\u001b[2m\u001b[33m(raylet)\u001b[0m /Users/amalota/anaconda3/envs/py37/lib/python3.7/site-packages/ray/autoscaler/_private/cli_logger.py:61: FutureWarning: Not all Ray CLI dependencies were found. In Ray 1.4+, the Ray CLI, autoscaler, and dashboard will only be usable via `pip install 'ray[default]'`. Please update your install command.\n",
      "\u001b[2m\u001b[33m(raylet)\u001b[0m   \"update your install command.\", FutureWarning)\n",
      "\u001b[2m\u001b[33m(raylet)\u001b[0m /Users/amalota/anaconda3/envs/py37/lib/python3.7/site-packages/ray/autoscaler/_private/cli_logger.py:61: FutureWarning: Not all Ray CLI dependencies were found. In Ray 1.4+, the Ray CLI, autoscaler, and dashboard will only be usable via `pip install 'ray[default]'`. Please update your install command.\n",
      "\u001b[2m\u001b[33m(raylet)\u001b[0m   \"update your install command.\", FutureWarning)\n",
      "2021-05-14 12:52:06,969\tWARNING util.py:53 -- Install gputil for GPU system monitoring.\n"
     ]
    },
    {
     "name": "stdout",
     "output_type": "stream",
     "text": [
      "  0: Min/Mean/Max reward:  10.0000/ 19.2128/ 44.0000. Checkpoint saved to tmp/dqn/cartpole/checkpoint_000001/checkpoint-1\n",
      "  1: Min/Mean/Max reward:   8.0000/ 21.3400/ 85.0000. Checkpoint saved to tmp/dqn/cartpole/checkpoint_000002/checkpoint-2\n",
      "  2: Min/Mean/Max reward:   8.0000/ 15.9840/ 50.0000. Checkpoint saved to tmp/dqn/cartpole/checkpoint_000003/checkpoint-3\n",
      "  3: Min/Mean/Max reward:   8.0000/ 12.6772/ 43.0000. Checkpoint saved to tmp/dqn/cartpole/checkpoint_000004/checkpoint-4\n",
      "  4: Min/Mean/Max reward:   8.0000/ 14.8444/ 42.0000. Checkpoint saved to tmp/dqn/cartpole/checkpoint_000005/checkpoint-5\n",
      "  5: Min/Mean/Max reward:   9.0000/ 22.3300/ 53.0000. Checkpoint saved to tmp/dqn/cartpole/checkpoint_000006/checkpoint-6\n",
      "  6: Min/Mean/Max reward:  12.0000/ 33.7300/115.0000. Checkpoint saved to tmp/dqn/cartpole/checkpoint_000007/checkpoint-7\n",
      "  7: Min/Mean/Max reward:  15.0000/ 46.1300/132.0000. Checkpoint saved to tmp/dqn/cartpole/checkpoint_000008/checkpoint-8\n",
      "  8: Min/Mean/Max reward:  15.0000/ 60.0600/151.0000. Checkpoint saved to tmp/dqn/cartpole/checkpoint_000009/checkpoint-9\n",
      "  9: Min/Mean/Max reward:  17.0000/ 71.3200/151.0000. Checkpoint saved to tmp/dqn/cartpole/checkpoint_000010/checkpoint-10\n"
     ]
    }
   ],
   "source": [
    "agent = dqn.DQNTrainer(config, env=SELECT_ENV)\n",
    "\n",
    "results = []\n",
    "episode_data = []\n",
    "episode_json = []\n",
    "\n",
    "for n in range(N_ITER):\n",
    "    result = agent.train()\n",
    "    results.append(result)\n",
    "    \n",
    "    episode = {\n",
    "        \"n\": n,\n",
    "        \"episode_reward_min\": result[\"episode_reward_min\"],\n",
    "        \"episode_reward_mean\": result[\"episode_reward_mean\"], \n",
    "        \"episode_reward_max\": result[\"episode_reward_max\"],  \n",
    "        \"episode_len_mean\": result[\"episode_len_mean\"],\n",
    "    }\n",
    "    \n",
    "    episode_data.append(episode)\n",
    "    episode_json.append(json.dumps(episode))\n",
    "    file_name = agent.save(checkpoint_root)\n",
    "    \n",
    "    print(f'{n:3d}: Min/Mean/Max reward: {result[\"episode_reward_min\"]:8.4f}/{result[\"episode_reward_mean\"]:8.4f}/{result[\"episode_reward_max\"]:8.4f}. Checkpoint saved to {file_name}')"
   ]
  },
  {
   "cell_type": "code",
   "execution_count": 17,
   "id": "b953e59e-503d-4f97-bdd9-c53d80a0d787",
   "metadata": {},
   "outputs": [
    {
     "data": {
      "text/html": [
       "<div>\n",
       "<style scoped>\n",
       "    .dataframe tbody tr th:only-of-type {\n",
       "        vertical-align: middle;\n",
       "    }\n",
       "\n",
       "    .dataframe tbody tr th {\n",
       "        vertical-align: top;\n",
       "    }\n",
       "\n",
       "    .dataframe thead th {\n",
       "        text-align: right;\n",
       "    }\n",
       "</style>\n",
       "<table border=\"1\" class=\"dataframe\">\n",
       "  <thead>\n",
       "    <tr style=\"text-align: right;\">\n",
       "      <th></th>\n",
       "      <th>n</th>\n",
       "      <th>episode_reward_min</th>\n",
       "      <th>episode_reward_mean</th>\n",
       "      <th>episode_reward_max</th>\n",
       "      <th>episode_len_mean</th>\n",
       "    </tr>\n",
       "  </thead>\n",
       "  <tbody>\n",
       "    <tr>\n",
       "      <th>0</th>\n",
       "      <td>0</td>\n",
       "      <td>10.0</td>\n",
       "      <td>19.212766</td>\n",
       "      <td>44.0</td>\n",
       "      <td>19.212766</td>\n",
       "    </tr>\n",
       "    <tr>\n",
       "      <th>1</th>\n",
       "      <td>1</td>\n",
       "      <td>8.0</td>\n",
       "      <td>21.340000</td>\n",
       "      <td>85.0</td>\n",
       "      <td>21.340000</td>\n",
       "    </tr>\n",
       "    <tr>\n",
       "      <th>2</th>\n",
       "      <td>2</td>\n",
       "      <td>8.0</td>\n",
       "      <td>15.984000</td>\n",
       "      <td>50.0</td>\n",
       "      <td>15.984000</td>\n",
       "    </tr>\n",
       "    <tr>\n",
       "      <th>3</th>\n",
       "      <td>3</td>\n",
       "      <td>8.0</td>\n",
       "      <td>12.677215</td>\n",
       "      <td>43.0</td>\n",
       "      <td>12.677215</td>\n",
       "    </tr>\n",
       "    <tr>\n",
       "      <th>4</th>\n",
       "      <td>4</td>\n",
       "      <td>8.0</td>\n",
       "      <td>14.844444</td>\n",
       "      <td>42.0</td>\n",
       "      <td>14.844444</td>\n",
       "    </tr>\n",
       "    <tr>\n",
       "      <th>5</th>\n",
       "      <td>5</td>\n",
       "      <td>9.0</td>\n",
       "      <td>22.330000</td>\n",
       "      <td>53.0</td>\n",
       "      <td>22.330000</td>\n",
       "    </tr>\n",
       "    <tr>\n",
       "      <th>6</th>\n",
       "      <td>6</td>\n",
       "      <td>12.0</td>\n",
       "      <td>33.730000</td>\n",
       "      <td>115.0</td>\n",
       "      <td>33.730000</td>\n",
       "    </tr>\n",
       "    <tr>\n",
       "      <th>7</th>\n",
       "      <td>7</td>\n",
       "      <td>15.0</td>\n",
       "      <td>46.130000</td>\n",
       "      <td>132.0</td>\n",
       "      <td>46.130000</td>\n",
       "    </tr>\n",
       "    <tr>\n",
       "      <th>8</th>\n",
       "      <td>8</td>\n",
       "      <td>15.0</td>\n",
       "      <td>60.060000</td>\n",
       "      <td>151.0</td>\n",
       "      <td>60.060000</td>\n",
       "    </tr>\n",
       "    <tr>\n",
       "      <th>9</th>\n",
       "      <td>9</td>\n",
       "      <td>17.0</td>\n",
       "      <td>71.320000</td>\n",
       "      <td>151.0</td>\n",
       "      <td>71.320000</td>\n",
       "    </tr>\n",
       "  </tbody>\n",
       "</table>\n",
       "</div>"
      ],
      "text/plain": [
       "   n  episode_reward_min  episode_reward_mean  episode_reward_max  \\\n",
       "0  0                10.0            19.212766                44.0   \n",
       "1  1                 8.0            21.340000                85.0   \n",
       "2  2                 8.0            15.984000                50.0   \n",
       "3  3                 8.0            12.677215                43.0   \n",
       "4  4                 8.0            14.844444                42.0   \n",
       "5  5                 9.0            22.330000                53.0   \n",
       "6  6                12.0            33.730000               115.0   \n",
       "7  7                15.0            46.130000               132.0   \n",
       "8  8                15.0            60.060000               151.0   \n",
       "9  9                17.0            71.320000               151.0   \n",
       "\n",
       "   episode_len_mean  \n",
       "0         19.212766  \n",
       "1         21.340000  \n",
       "2         15.984000  \n",
       "3         12.677215  \n",
       "4         14.844444  \n",
       "5         22.330000  \n",
       "6         33.730000  \n",
       "7         46.130000  \n",
       "8         60.060000  \n",
       "9         71.320000  "
      ]
     },
     "execution_count": 17,
     "metadata": {},
     "output_type": "execute_result"
    }
   ],
   "source": [
    "df = pd.DataFrame(data=episode_data)\n",
    "df"
   ]
  },
  {
   "cell_type": "code",
   "execution_count": 18,
   "id": "5803f6ac-8666-4e40-9f9c-b1a38c0efeb5",
   "metadata": {},
   "outputs": [
    {
     "data": {
      "text/plain": [
       "<AxesSubplot:>"
      ]
     },
     "execution_count": 18,
     "metadata": {},
     "output_type": "execute_result"
    },
    {
     "data": {
      "image/png": "[encoded data removed]",
      "text/plain": [
       "<Figure size 1152x576 with 2 Axes>"
      ]
     },
     "metadata": {
      "needs_background": "light"
     },
     "output_type": "display_data"
    }
   ],
   "source": [
    "df.plot(x=\"n\", y=[\"episode_reward_mean\", \"episode_reward_min\", \"episode_reward_max\"], secondary_y=True, figsize=(16, 8))"
   ]
  },
  {
   "cell_type": "code",
   "execution_count": 11,
   "id": "180157d0-9e08-4910-ad4b-9023f8f442b2",
   "metadata": {},
   "outputs": [],
   "source": [
    "def watch_agent(env):\n",
    "    state = env.reset()\n",
    "    rewards = []\n",
    "    img = plt.imshow(env.render(mode='rgb_array'))\n",
    "    for t in range(2000):\n",
    "        action=agent.compute_action(state)\n",
    "\n",
    "        img.set_data(env.render(mode='rgb_array')) \n",
    "        plt.axis('off')\n",
    "        display.display(plt.gcf())\n",
    "        display.clear_output(wait=True)\n",
    "\n",
    "        state, reward, done, _ = env.step(action)\n",
    "        rewards.append(reward)\n",
    "        if done:\n",
    "            print(\"Reward:\", sum([r for r in rewards]))\n",
    "            break \n",
    "    env.close()"
   ]
  },
  {
   "cell_type": "code",
   "execution_count": 33,
   "id": "391ee3ae-650c-4895-8637-90e0717089f5",
   "metadata": {},
   "outputs": [
    {
     "name": "stdout",
     "output_type": "stream",
     "text": [
      "Reward: 500.0\n"
     ]
    },
    {
     "data": {
      "image/png": "[encoded data removed]",
      "text/plain": [
       "<Figure size 432x288 with 1 Axes>"
      ]
     },
     "metadata": {
      "needs_background": "light"
     },
     "output_type": "display_data"
    }
   ],
   "source": [
    "watch_agent(env)"
   ]
  },
  {
   "cell_type": "code",
   "execution_count": 35,
   "id": "8f265c19-0cb3-45fa-834a-c020bb6a5fd4",
   "metadata": {},
   "outputs": [
    {
     "name": "stdout",
     "output_type": "stream",
     "text": [
      "tmp/dqn/cartpole/checkpoint_000010/checkpoint-10\n"
     ]
    }
   ],
   "source": [
    "checkpoint_path = agent.save(checkpoint_root)\n",
    "print(checkpoint_path)"
   ]
  },
  {
   "cell_type": "code",
   "execution_count": 38,
   "id": "3e1cc033-f871-49a1-b889-fca7dd15634a",
   "metadata": {},
   "outputs": [
    {
     "name": "stderr",
     "output_type": "stream",
     "text": [
      "\u001b[2m\u001b[33m(raylet)\u001b[0m /Users/amalota/anaconda3/envs/py37/lib/python3.7/site-packages/ray/autoscaler/_private/cli_logger.py:61: FutureWarning: Not all Ray CLI dependencies were found. In Ray 1.4+, the Ray CLI, autoscaler, and dashboard will only be usable via `pip install 'ray[default]'`. Please update your install command.\n",
      "\u001b[2m\u001b[33m(raylet)\u001b[0m   \"update your install command.\", FutureWarning)\n",
      "\u001b[2m\u001b[33m(raylet)\u001b[0m /Users/amalota/anaconda3/envs/py37/lib/python3.7/site-packages/ray/autoscaler/_private/cli_logger.py:61: FutureWarning: Not all Ray CLI dependencies were found. In Ray 1.4+, the Ray CLI, autoscaler, and dashboard will only be usable via `pip install 'ray[default]'`. Please update your install command.\n",
      "\u001b[2m\u001b[33m(raylet)\u001b[0m   \"update your install command.\", FutureWarning)\n",
      "\u001b[2m\u001b[33m(raylet)\u001b[0m /Users/amalota/anaconda3/envs/py37/lib/python3.7/site-packages/ray/autoscaler/_private/cli_logger.py:61: FutureWarning: Not all Ray CLI dependencies were found. In Ray 1.4+, the Ray CLI, autoscaler, and dashboard will only be usable via `pip install 'ray[default]'`. Please update your install command.\n",
      "\u001b[2m\u001b[33m(raylet)\u001b[0m   \"update your install command.\", FutureWarning)\n",
      "\u001b[2m\u001b[33m(raylet)\u001b[0m /Users/amalota/anaconda3/envs/py37/lib/python3.7/site-packages/ray/autoscaler/_private/cli_logger.py:61: FutureWarning: Not all Ray CLI dependencies were found. In Ray 1.4+, the Ray CLI, autoscaler, and dashboard will only be usable via `pip install 'ray[default]'`. Please update your install command.\n",
      "\u001b[2m\u001b[33m(raylet)\u001b[0m   \"update your install command.\", FutureWarning)\n",
      "\u001b[2m\u001b[33m(raylet)\u001b[0m /Users/amalota/anaconda3/envs/py37/lib/python3.7/site-packages/ray/autoscaler/_private/cli_logger.py:61: FutureWarning: Not all Ray CLI dependencies were found. In Ray 1.4+, the Ray CLI, autoscaler, and dashboard will only be usable via `pip install 'ray[default]'`. Please update your install command.\n",
      "\u001b[2m\u001b[33m(raylet)\u001b[0m   \"update your install command.\", FutureWarning)\n",
      "\u001b[2m\u001b[33m(raylet)\u001b[0m /Users/amalota/anaconda3/envs/py37/lib/python3.7/site-packages/ray/autoscaler/_private/cli_logger.py:61: FutureWarning: Not all Ray CLI dependencies were found. In Ray 1.4+, the Ray CLI, autoscaler, and dashboard will only be usable via `pip install 'ray[default]'`. Please update your install command.\n",
      "\u001b[2m\u001b[33m(raylet)\u001b[0m   \"update your install command.\", FutureWarning)\n",
      "\u001b[2m\u001b[33m(raylet)\u001b[0m /Users/amalota/anaconda3/envs/py37/lib/python3.7/site-packages/ray/autoscaler/_private/cli_logger.py:61: FutureWarning: Not all Ray CLI dependencies were found. In Ray 1.4+, the Ray CLI, autoscaler, and dashboard will only be usable via `pip install 'ray[default]'`. Please update your install command.\n",
      "\u001b[2m\u001b[33m(raylet)\u001b[0m   \"update your install command.\", FutureWarning)\n",
      "2021-05-13 20:17:39,931\tWARNING util.py:53 -- Install gputil for GPU system monitoring.\n",
      "2021-05-13 20:17:39,943\tINFO trainable.py:378 -- Restored on 192.168.0.138 from checkpoint: tmp/dqn/cartpole/checkpoint_000100/checkpoint-100\n",
      "2021-05-13 20:17:39,944\tINFO trainable.py:385 -- Current state after restoring: {'_iteration': 100, '_timesteps_total': None, '_time_total': 124.73238468170166, '_episodes_total': 601}\n"
     ]
    }
   ],
   "source": [
    "trained_config = config.copy()\n",
    "\n",
    "test_agent = dqn.DQNTrainer(trained_config, SELECT_ENV)\n",
    "test_agent.restore(checkpoint_path)"
   ]
  },
  {
   "cell_type": "code",
   "execution_count": 19,
   "id": "7ef2b06e-14a2-4cd1-be68-44576959daad",
   "metadata": {},
   "outputs": [
    {
     "name": "stdout",
     "output_type": "stream",
     "text": [
      "Sequential()\n"
     ]
    }
   ],
   "source": [
    "import pprint\n",
    "\n",
    "policy = agent.get_policy()\n",
    "model = policy.model\n",
    "\n",
    "print(model.advantage_module)"
   ]
  },
  {
   "cell_type": "code",
   "execution_count": 22,
   "id": "6edbbad2-699b-4433-96cd-dd0e2575da4c",
   "metadata": {},
   "outputs": [
    {
     "name": "stdout",
     "output_type": "stream",
     "text": [
      "FullyConnectedNetwork_as_DQNTorchModel(\n",
      "  (_logits): SlimFC(\n",
      "    (_model): Sequential(\n",
      "      (0): Linear(in_features=256, out_features=2, bias=True)\n",
      "    )\n",
      "  )\n",
      "  (_hidden_layers): Sequential(\n",
      "    (0): SlimFC(\n",
      "      (_model): Sequential(\n",
      "        (0): Linear(in_features=4, out_features=256, bias=True)\n",
      "        (1): Tanh()\n",
      "      )\n",
      "    )\n",
      "    (1): SlimFC(\n",
      "      (_model): Sequential(\n",
      "        (0): Linear(in_features=256, out_features=256, bias=True)\n",
      "        (1): Tanh()\n",
      "      )\n",
      "    )\n",
      "  )\n",
      "  (_value_branch): SlimFC(\n",
      "    (_model): Sequential(\n",
      "      (0): Linear(in_features=256, out_features=1, bias=True)\n",
      "    )\n",
      "  )\n",
      "  (advantage_module): Sequential()\n",
      ")\n"
     ]
    }
   ],
   "source": [
    "print(model)"
   ]
  },
  {
   "cell_type": "code",
   "execution_count": 32,
   "id": "6e7598de-76b8-41fb-bd49-ef52a9b406a4",
   "metadata": {},
   "outputs": [],
   "source": [
    "import torch"
   ]
  },
  {
   "cell_type": "code",
   "execution_count": null,
   "id": "b1e8ecd2-7f2e-479d-bc58-e47a462ed768",
   "metadata": {},
   "outputs": [],
   "source": [
    "agent._"
   ]
  },
  {
   "cell_type": "code",
   "execution_count": 34,
   "id": "526ae523-bda0-417e-908e-132b984929ed",
   "metadata": {},
   "outputs": [
    {
     "data": {
      "text/plain": [
       "tensor([ 1.0000,  0.9999, -1.0000,  1.0000, -1.0000, -0.8973,  1.0000,  0.9997,\n",
       "        -1.0000,  0.9998,  0.9999,  1.0000, -1.0000,  0.9989,  0.6882, -0.9812,\n",
       "         1.0000, -1.0000, -1.0000, -0.7660,  1.0000, -1.0000,  1.0000, -1.0000,\n",
       "        -1.0000,  0.9999,  1.0000, -1.0000, -0.6975,  0.5492,  0.6596,  1.0000,\n",
       "         0.7830, -0.9994,  0.9998,  0.9971,  0.9998, -0.9998,  1.0000, -1.0000,\n",
       "        -1.0000, -1.0000, -1.0000, -0.9998, -1.0000, -1.0000,  0.9629, -1.0000,\n",
       "         0.8813,  0.4111,  1.0000, -1.0000, -0.8592,  1.0000, -0.9993, -1.0000,\n",
       "         0.9999, -1.0000, -0.9999,  0.9939,  0.8985,  0.7174, -1.0000,  1.0000,\n",
       "         0.9999,  1.0000, -1.0000, -1.0000,  0.9999, -0.9999, -0.9506, -1.0000,\n",
       "         0.8016, -1.0000,  0.9999, -1.0000, -1.0000, -1.0000, -0.9973,  1.0000,\n",
       "        -0.1019,  0.9999, -0.8922, -0.8519, -0.9997,  1.0000, -0.5617, -1.0000,\n",
       "         0.5653,  1.0000,  1.0000, -0.3410, -0.9996,  0.9998,  1.0000,  1.0000,\n",
       "         1.0000, -1.0000,  1.0000, -1.0000, -0.6042,  0.9999, -1.0000, -1.0000,\n",
       "         1.0000, -1.0000,  1.0000,  0.9988,  1.0000, -1.0000, -0.9591, -0.9998,\n",
       "        -1.0000,  0.7352, -1.0000,  1.0000, -0.9642,  0.9999, -1.0000, -1.0000,\n",
       "         0.9984,  0.9992, -1.0000,  0.9982,  1.0000, -1.0000,  1.0000, -1.0000,\n",
       "        -0.2991,  0.2844, -1.0000, -0.0072, -0.9996,  0.9985,  1.0000,  0.4484,\n",
       "         0.9999, -0.7262, -1.0000,  0.8817, -0.9999, -0.3058, -0.6713, -0.4422,\n",
       "         0.9999,  1.0000,  1.0000, -0.9995,  0.1817,  1.0000,  1.0000, -1.0000,\n",
       "         0.9997,  1.0000, -1.0000, -0.9999,  0.9999,  1.0000, -0.8717, -0.4171,\n",
       "         1.0000,  1.0000, -1.0000, -0.9999,  1.0000,  0.0800,  0.9952,  1.0000,\n",
       "         1.0000,  0.9997, -1.0000,  0.9999,  1.0000, -1.0000,  1.0000, -1.0000,\n",
       "        -0.9999, -0.9997,  0.6191,  1.0000,  1.0000, -0.8541,  1.0000, -0.9998,\n",
       "        -1.0000,  1.0000, -1.0000,  0.9994, -1.0000, -1.0000, -0.5459, -0.9998,\n",
       "        -0.9998,  0.9998,  0.9990, -0.9746, -0.7522, -1.0000, -1.0000, -1.0000,\n",
       "         1.0000, -1.0000, -0.5807, -0.9996, -0.9998,  1.0000, -1.0000,  1.0000,\n",
       "        -1.0000,  0.9916,  0.7755, -1.0000,  1.0000,  1.0000,  1.0000, -1.0000,\n",
       "        -1.0000, -1.0000, -1.0000,  1.0000,  1.0000, -0.9843, -1.0000, -0.0460,\n",
       "         0.9999, -1.0000,  1.0000, -1.0000,  0.4372,  0.8513, -0.9989, -0.9991,\n",
       "        -0.9996,  0.5248, -0.9939, -0.8290,  1.0000,  0.9089,  1.0000,  1.0000,\n",
       "         1.0000,  0.9392,  1.0000, -0.9999, -1.0000, -0.9999, -1.0000,  1.0000,\n",
       "         1.0000,  1.0000, -0.9999, -1.0000,  1.0000,  1.0000,  1.0000,  1.0000],\n",
       "       grad_fn=<TanhBackward>)"
      ]
     },
     "execution_count": 34,
     "metadata": {},
     "output_type": "execute_result"
    }
   ],
   "source": [
    "model._hidden_layers.forward(torch.tensor([0, 1, 1, 1]).float())"
   ]
  },
  {
   "cell_type": "code",
   "execution_count": null,
   "id": "15d0750a-d985-42e8-aff6-7b778b55459e",
   "metadata": {},
   "outputs": [],
   "source": [
    "input_dict = {}\n",
    "input_dict[\"obs\"] = [0, 1, 1, 1]"
   ]
  },
  {
   "cell_type": "code",
   "execution_count": 27,
   "id": "5205b6e2-8a97-4524-91dc-4b0ecc71b3bd",
   "metadata": {},
   "outputs": [
    {
     "ename": "TypeError",
     "evalue": "forward() missing 1 required positional argument: 'input_dict'",
     "output_type": "error",
     "traceback": [
      "\u001b[0;31m---------------------------------------------------------------------------\u001b[0m",
      "\u001b[0;31mTypeError\u001b[0m                                 Traceback (most recent call last)",
      "\u001b[0;32m<ipython-input-27-ecfd31538c17>\u001b[0m in \u001b[0;36m<module>\u001b[0;34m\u001b[0m\n\u001b[0;32m----> 1\u001b[0;31m \u001b[0mmodel\u001b[0m\u001b[0;34m.\u001b[0m\u001b[0mforward\u001b[0m\u001b[0;34m(\u001b[0m\u001b[0mstate\u001b[0m\u001b[0;34m=\u001b[0m\u001b[0;34m[\u001b[0m\u001b[0;36m0\u001b[0m\u001b[0;34m,\u001b[0m \u001b[0;36m1\u001b[0m\u001b[0;34m,\u001b[0m \u001b[0;36m1\u001b[0m\u001b[0;34m,\u001b[0m \u001b[0;36m1\u001b[0m\u001b[0;34m]\u001b[0m\u001b[0;34m,\u001b[0m \u001b[0mseq_lens\u001b[0m\u001b[0;34m=\u001b[0m\u001b[0;36m1\u001b[0m\u001b[0;34m)\u001b[0m\u001b[0;34m\u001b[0m\u001b[0;34m\u001b[0m\u001b[0m\n\u001b[0m",
      "\u001b[0;31mTypeError\u001b[0m: forward() missing 1 required positional argument: 'input_dict'"
     ]
    }
   ],
   "source": [
    "model.forward(state=[0, 1, 1, 1], seq_lens=1)"
   ]
  },
  {
   "cell_type": "code",
   "execution_count": 23,
   "id": "6f056f2d-13a7-4642-a84f-c8afc30a8530",
   "metadata": {},
   "outputs": [],
   "source": []
  },
  {
   "cell_type": "code",
   "execution_count": 24,
   "id": "9fffe309-8eef-496e-a0e3-6eafb5a2f477",
   "metadata": {},
   "outputs": [],
   "source": [
    "from captum.attr import IntegratedGradients\n",
    "ig = IntegratedGradients(model)\n",
    "\n",
    "ig_attr_test = ig.attribute(X_test, n_steps=50)"
   ]
  },
  {
   "cell_type": "code",
   "execution_count": null,
   "id": "0cb1f28b-bd34-471d-8250-3912b63ea81c",
   "metadata": {},
   "outputs": [],
   "source": [
    "agent.save()"
   ]
  },
  {
   "cell_type": "code",
   "execution_count": 36,
   "id": "efc19b04-495f-47da-aa79-93f2539eee18",
   "metadata": {},
   "outputs": [],
   "source": [
    "ray.shutdown()"
   ]
  },
  {
   "cell_type": "code",
   "execution_count": null,
   "id": "84c3c5e8-0a03-4494-b498-d0e450989f6e",
   "metadata": {},
   "outputs": [],
   "source": []
  }
 ],
 "metadata": {
  "kernelspec": {
   "display_name": "Python 3",
   "language": "python",
   "name": "python3"
  },
  "language_info": {
   "codemirror_mode": {
    "name": "ipython",
    "version": 3
   },
   "file_extension": ".py",
   "mimetype": "text/x-python",
   "name": "python",
   "nbconvert_exporter": "python",
   "pygments_lexer": "ipython3",
   "version": "3.7.10"
  }
 },
 "nbformat": 4,
 "nbformat_minor": 5
}
